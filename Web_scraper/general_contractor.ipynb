{
 "cells": [
  {
   "cell_type": "code",
   "execution_count": 2,
   "metadata": {},
   "outputs": [],
   "source": [
    "#requests imported to get the website and beautiful soup to parse the html\n",
    "import requests\n",
    "from bs4 import BeautifulSoup\n",
    "\n",
    "#acts as if a user is browsing the site\n",
    "headers = {'User-Agent': 'Mozilla/5.0 (Windows NT 6.3; Win64; x64) AppleWebKit/537.36 (KHTML, like Gecko) Chrome/54.0.2840.71 Safari/537.36'}\n",
    "# assigns the url to a var \"url\"\n",
    "url = 'https://www.yellowpages.com/search?search_terms=contractors&geo_location_terms=lexington+sc' \n",
    "# assigns \"r\" to get the url with the \"header\" user agent\n",
    "r = requests.get(url, headers=headers)\n",
    "# assigns \"c\" to the content of the url\n",
    "c = r.content\n",
    "# parses the html\n",
    "soup = BeautifulSoup(c, 'html.parser')\n",
    "\n",
    "all = soup.find_all('div', {'class': 'info'}) # finds all div with class info\n",
    "\n",
    "l=[] #list for dictionaries or \"d\"\n",
    "base_url = 'https://www.yellowpages.com/search?search_terms=contractors&geo_location_terms=lexington%20sc&page='\n",
    "for page in range(1,30,1) : #loops to only the 10th page\n",
    "    r=requests.get(base_url + str(page))\n",
    "    c=r.content\n",
    "    soup = BeautifulSoup(c,'html.parser')\n",
    "    print(soup.prettify())\n",
    "    all = soup.find_all('div', {'class': 'info'})\n",
    "    for bs in all : #loops through divs & 'trys' are for handling the exceptions\n",
    "        d={}\n",
    "        try:       \n",
    "            d['business name'] = bs.find('a', {'class': 'business-name'}).text \n",
    "        except: \n",
    "            d['business name'] ='none'\n",
    "        try:\n",
    "            d['phone number'] = bs.find('div', {'class': 'phones phone primary'}).text\n",
    "        except:\n",
    "            d['phone number'] ='none'\n",
    "        try:\n",
    "            d['locality'] = bs.find('div', {'class': 'locality'}).text  \n",
    "        except:\n",
    "            d['locality'] ='none'\n",
    "        try:\n",
    "            d['address'] = bs.find('div', {'class': 'street-address'}).text\n",
    "        except:\n",
    "            d['address'] ='none'\n",
    "        try:\n",
    "            d['categories'] = bs.find('div', {'class': 'categories'}).text\n",
    "        except:\n",
    "            d['categories'] = 'none'\n",
    "        try:\n",
    "            d['num of reviews'] = bs.find('span', {'class': 'count'}).text\n",
    "        except:\n",
    "            d['num of reviews'] = 'none'\n",
    "        try :\n",
    "            d['BBB rating'] = bs.find('span', {'class': 'bbb-rating extra-rating hasRating'}).text\n",
    "        except:\n",
    "            d['BBB rating'] = 'none'\n",
    "                \n",
    "\n",
    "        l.append(d)\n",
    "        \n",
    "import pandas\n",
    "df=pandas.DataFrame(l)\n",
    "df\n",
    "\n",
    "\n",
    "\n",
    "#df.to_csv('gen.contractor.csv')\n",
    "\n",
    "\n"
   ]
  },
  {
   "cell_type": "code",
   "execution_count": 1,
   "metadata": {},
   "outputs": [
    {
     "ename": "NameError",
     "evalue": "name 'df' is not defined",
     "output_type": "error",
     "traceback": [
      "\u001b[1;31m---------------------------------------------------------------------------\u001b[0m",
      "\u001b[1;31mNameError\u001b[0m                                 Traceback (most recent call last)",
      "\u001b[1;32m<ipython-input-1-00cf07b74dcd>\u001b[0m in \u001b[0;36m<module>\u001b[1;34m\u001b[0m\n\u001b[1;32m----> 1\u001b[1;33m \u001b[0mdf\u001b[0m\u001b[1;33m\u001b[0m\u001b[1;33m\u001b[0m\u001b[0m\n\u001b[0m",
      "\u001b[1;31mNameError\u001b[0m: name 'df' is not defined"
     ]
    }
   ],
   "source": [
    "df"
   ]
  }
 ],
 "metadata": {
  "kernelspec": {
   "display_name": "Python 3",
   "language": "python",
   "name": "python3"
  },
  "language_info": {
   "codemirror_mode": {
    "name": "ipython",
    "version": 3
   },
   "file_extension": ".py",
   "mimetype": "text/x-python",
   "name": "python",
   "nbconvert_exporter": "python",
   "pygments_lexer": "ipython3",
   "version": "3.7.6"
  }
 },
 "nbformat": 4,
 "nbformat_minor": 4
}
